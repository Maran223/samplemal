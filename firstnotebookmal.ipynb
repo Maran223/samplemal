{
  "nbformat": 4,
  "nbformat_minor": 0,
  "metadata": {
    "colab": {
      "provenance": [],
      "authorship_tag": "ABX9TyMwR0oGcPz3MThZdQ9HUOYU",
      "include_colab_link": true
    },
    "kernelspec": {
      "name": "python3",
      "display_name": "Python 3"
    },
    "language_info": {
      "name": "python"
    }
  },
  "cells": [
    {
      "cell_type": "markdown",
      "metadata": {
        "id": "view-in-github",
        "colab_type": "text"
      },
      "source": [
        "<a href=\"https://colab.research.google.com/github/Maran223/samplemal/blob/main/firstnotebookmal.ipynb\" target=\"_parent\"><img src=\"https://colab.research.google.com/assets/colab-badge.svg\" alt=\"Open In Colab\"/></a>"
      ]
    },
    {
      "cell_type": "code",
      "execution_count": null,
      "metadata": {
        "id": "8q2mWL9iQJky",
        "colab": {
          "base_uri": "https://localhost:8080/"
        },
        "outputId": "7a6c6d61-8fd9-4dca-99a2-c6eb1ba8de17"
      },
      "outputs": [
        {
          "output_type": "stream",
          "name": "stdout",
          "text": [
            "hello, world/Hola, mundo\n"
          ]
        }
      ],
      "source": [
        "print (\"hello, world/Hola, mundo\")"
      ]
    },
    {
      "cell_type": "code",
      "source": [
        "print (\"hello, colab\")\n",
        "print (\"hello, python\")"
      ],
      "metadata": {
        "colab": {
          "base_uri": "https://localhost:8080/"
        },
        "id": "9itYTostSEwv",
        "outputId": "56eee4c9-66cf-43a1-eeca-419cd8e496ef"
      },
      "execution_count": null,
      "outputs": [
        {
          "output_type": "stream",
          "name": "stdout",
          "text": [
            "hello, colab\n",
            "hello, python\n"
          ]
        }
      ]
    },
    {
      "cell_type": "markdown",
      "source": [
        "# Rúbrica 1.\n",
        "\n",
        "La notación Markdown facilita la lectura del texto.\n",
        "\n",
        "## Rúbrica 2.\n",
        "\n",
        "**(énfasis añadido)**\n",
        "\n",
        "También se pueden escribir fórmulas matemáticas.\n",
        "\n",
        "$$\n",
        "y=2x+1\n",
        "$$\n",
        "\n",
        "Cuando escriba código Python, utilice bloques de código.\n",
        "\n",
        "```python\n",
        "print(\"Hello, World!\")\n",
        "```\n",
        "\n",
        "- itemización\n",
        "- itemización\n",
        "  - itemización\n",
        "\n",
        "> presupuesto"
      ],
      "metadata": {
        "id": "dhMSu8BaSoMm"
      }
    },
    {
      "cell_type": "code",
      "source": [
        "num=3+4\n",
        "print (num)"
      ],
      "metadata": {
        "colab": {
          "base_uri": "https://localhost:8080/"
        },
        "id": "N4rdgPgBUJii",
        "outputId": "151d64cb-0a19-4bbc-883f-ade49d8de795"
      },
      "execution_count": null,
      "outputs": [
        {
          "output_type": "stream",
          "name": "stdout",
          "text": [
            "7\n"
          ]
        }
      ]
    },
    {
      "cell_type": "code",
      "source": [
        "num"
      ],
      "metadata": {
        "colab": {
          "base_uri": "https://localhost:8080/"
        },
        "id": "Y3jT1xLBURbr",
        "outputId": "e4f44cd8-1773-4e9c-b2d5-f904cf60042e"
      },
      "execution_count": null,
      "outputs": [
        {
          "output_type": "execute_result",
          "data": {
            "text/plain": [
              "7"
            ]
          },
          "metadata": {},
          "execution_count": 5
        }
      ]
    }
  ]
}